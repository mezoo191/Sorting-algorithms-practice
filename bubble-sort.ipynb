{
 "cells": [
  {
   "cell_type": "markdown",
   "id": "f0746842",
   "metadata": {},
   "source": [
    "get the data"
   ]
  },
  {
   "cell_type": "code",
   "execution_count": 19,
   "id": "f866f096",
   "metadata": {},
   "outputs": [
    {
     "data": {
      "text/plain": [
       "[5.0, 4.0, 9.0, 8.0, 1.0, 0.0]"
      ]
     },
     "execution_count": 19,
     "metadata": {},
     "output_type": "execute_result"
    }
   ],
   "source": [
    "data = input(\"Enter the data\").strip().split()\n",
    "data = [float(i) for i in data]\n",
    "data"
   ]
  },
  {
   "cell_type": "markdown",
   "id": "64deea9e",
   "metadata": {},
   "source": [
    "alg"
   ]
  },
  {
   "cell_type": "code",
   "execution_count": 20,
   "id": "cfe45327",
   "metadata": {},
   "outputs": [
    {
     "data": {
      "text/plain": [
       "[0.0, 1.0, 4.0, 5.0, 8.0, 9.0]"
      ]
     },
     "execution_count": 20,
     "metadata": {},
     "output_type": "execute_result"
    }
   ],
   "source": [
    "for i in range(len(data)):\n",
    "    for j in range(i+1, len(data)):\n",
    "        if data[i] > data[j]:\n",
    "            data[i], data[j] = data[j], data[i]\n",
    "data"
   ]
  }
 ],
 "metadata": {
  "kernelspec": {
   "display_name": "python_env",
   "language": "python",
   "name": "python3"
  },
  "language_info": {
   "codemirror_mode": {
    "name": "ipython",
    "version": 3
   },
   "file_extension": ".py",
   "mimetype": "text/x-python",
   "name": "python",
   "nbconvert_exporter": "python",
   "pygments_lexer": "ipython3",
   "version": "3.12.3"
  }
 },
 "nbformat": 4,
 "nbformat_minor": 5
}
