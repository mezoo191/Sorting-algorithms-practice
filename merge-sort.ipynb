{
 "cells": [
  {
   "cell_type": "markdown",
   "id": "4c4d3eef",
   "metadata": {},
   "source": [
    "Get the data"
   ]
  },
  {
   "cell_type": "code",
   "execution_count": 1,
   "id": "975efe7e",
   "metadata": {},
   "outputs": [],
   "source": [
    "data = input(\"Enter the data\").strip().split()"
   ]
  },
  {
   "cell_type": "markdown",
   "id": "2cff5a74",
   "metadata": {},
   "source": [
    "The algo"
   ]
  },
  {
   "cell_type": "code",
   "execution_count": null,
   "id": "65f26afa",
   "metadata": {},
   "outputs": [
    {
     "data": {
      "text/plain": [
       "['1', '3', '4', '6']"
      ]
     },
     "execution_count": 3,
     "metadata": {},
     "output_type": "execute_result"
    }
   ],
   "source": [
    "for i in range(len(data)):\n",
    "    "
   ]
  },
  {
   "cell_type": "code",
   "execution_count": null,
   "id": "ee3ccf03",
   "metadata": {},
   "outputs": [],
   "source": [
    "l_h = data[1:int(len(data)/2)]\n"
   ]
  }
 ],
 "metadata": {
  "jupytext": {
   "cell_metadata_filter": "-all",
   "main_language": "python",
   "notebook_metadata_filter": "-all"
  },
  "kernelspec": {
   "display_name": "python_env",
   "language": "python",
   "name": "python3"
  },
  "language_info": {
   "codemirror_mode": {
    "name": "ipython",
    "version": 3
   },
   "file_extension": ".py",
   "mimetype": "text/x-python",
   "name": "python",
   "nbconvert_exporter": "python",
   "pygments_lexer": "ipython3",
   "version": "3.12.3"
  }
 },
 "nbformat": 4,
 "nbformat_minor": 5
}
