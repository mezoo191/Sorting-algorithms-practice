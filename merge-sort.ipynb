{
 "cells": [
  {
   "cell_type": "markdown",
   "id": "4c4d3eef",
   "metadata": {},
   "source": [
    "Get the data"
   ]
  },
  {
   "cell_type": "code",
   "execution_count": 4,
   "id": "975efe7e",
   "metadata": {},
   "outputs": [
    {
     "data": {
      "text/plain": [
       "['8', '4', '5', '1', '2', '3', '6', '7']"
      ]
     },
     "execution_count": 4,
     "metadata": {},
     "output_type": "execute_result"
    }
   ],
   "source": [
    "data = input(\"Enter the data\").strip().split()\n",
    "data"
   ]
  },
  {
   "cell_type": "markdown",
   "id": "2cff5a74",
   "metadata": {},
   "source": [
    "The algo"
   ]
  },
  {
   "cell_type": "code",
   "execution_count": 8,
   "id": "65f26afa",
   "metadata": {},
   "outputs": [
    {
     "name": "stdout",
     "output_type": "stream",
     "text": [
      "Original: [8.0, 4.0, 5.0, 1.0, 2.0, 3.0, 6.0, 7.0]\n",
      "Sorted: [1.0, 2.0, 3.0, 4.0, 5.0, 6.0, 7.0, 8.0]\n"
     ]
    }
   ],
   "source": [
    "def merge_sort(arr):\n",
    "    # Base case: arrays with 1 or 0 elements are already sorted\n",
    "    if len(arr) <= 1:\n",
    "        return arr\n",
    "    \n",
    "    # Divide: split the array into two halves\n",
    "    half_point = len(arr) // 2  # Use // for integer division\n",
    "    left_half = arr[:half_point]\n",
    "    right_half = arr[half_point:]  # Fixed: was arr[half_point:-1]\n",
    "    \n",
    "    # Conquer: recursively sort both halves\n",
    "    left_sorted = merge_sort(left_half)\n",
    "    right_sorted = merge_sort(right_half)\n",
    "    \n",
    "    # Combine: merge the sorted halves\n",
    "    return merge(left_sorted, right_sorted)\n",
    "\n",
    "def merge(left, right):\n",
    "    result = []\n",
    "    i = j = 0\n",
    "    \n",
    "    # Compare elements and merge in sorted order\n",
    "    while i < len(left) and j < len(right):\n",
    "        if left[i] <= right[j]:\n",
    "            result.append(left[i])\n",
    "            i += 1\n",
    "        else:\n",
    "            result.append(right[j])\n",
    "            j += 1\n",
    "    \n",
    "    # Add remaining elements\n",
    "    result.extend(left[i:])\n",
    "    result.extend(right[j:])\n",
    "    \n",
    "    return result\n",
    "\n",
    "# Convert input to numbers and sort\n",
    "data = [float(x) for x in data]\n",
    "sorted_data = merge_sort(data)\n",
    "print(\"Original:\", data)\n",
    "print(\"Sorted:\", sorted_data)\n",
    "\n"
   ]
  }
 ],
 "metadata": {
  "jupytext": {
   "cell_metadata_filter": "-all",
   "main_language": "python",
   "notebook_metadata_filter": "-all"
  },
  "kernelspec": {
   "display_name": "python_env",
   "language": "python",
   "name": "python3"
  },
  "language_info": {
   "codemirror_mode": {
    "name": "ipython",
    "version": 3
   },
   "file_extension": ".py",
   "mimetype": "text/x-python",
   "name": "python",
   "nbconvert_exporter": "python",
   "pygments_lexer": "ipython3",
   "version": "3.12.3"
  }
 },
 "nbformat": 4,
 "nbformat_minor": 5
}
